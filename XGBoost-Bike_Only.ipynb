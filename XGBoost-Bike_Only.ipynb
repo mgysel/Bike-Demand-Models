{
 "cells": [
  {
   "cell_type": "markdown",
   "id": "7810c800",
   "metadata": {},
   "source": [
    "# XGBoost\n",
    "The purpose of this notebook is to use XGBoost for predicting hourly bike demand by station."
   ]
  },
  {
   "cell_type": "code",
   "execution_count": 5,
   "id": "b987f599",
   "metadata": {},
   "outputs": [],
   "source": [
    "# Load dependencies\n",
    "import numpy as np\n",
    "import pandas as pd\n",
    "import matplotlib.pyplot as plt\n",
    "import seaborn as sns\n",
    "from scipy import stats\n",
    "\n",
    "import datetime\n",
    "\n",
    "import xgboost as xgb\n",
    "from sklearn.metrics import mean_squared_error, mean_squared_log_error, accuracy_score, make_scorer\n",
    "from sklearn.model_selection import train_test_split, GridSearchCV\n",
    "from sklearn.feature_selection import SelectFromModel\n",
    "\n",
    "from sklearn import datasets, svm"
   ]
  },
  {
   "cell_type": "markdown",
   "id": "a9c798d3",
   "metadata": {},
   "source": [
    "## Data Analysis and Exploration"
   ]
  },
  {
   "cell_type": "code",
   "execution_count": 6,
   "id": "4cea1c34",
   "metadata": {
    "scrolled": true
   },
   "outputs": [
    {
     "data": {
      "text/html": [
       "<div>\n",
       "<style scoped>\n",
       "    .dataframe tbody tr th:only-of-type {\n",
       "        vertical-align: middle;\n",
       "    }\n",
       "\n",
       "    .dataframe tbody tr th {\n",
       "        vertical-align: top;\n",
       "    }\n",
       "\n",
       "    .dataframe thead th {\n",
       "        text-align: right;\n",
       "    }\n",
       "</style>\n",
       "<table border=\"1\" class=\"dataframe\">\n",
       "  <thead>\n",
       "    <tr style=\"text-align: right;\">\n",
       "      <th></th>\n",
       "      <th>num_trips</th>\n",
       "      <th>start_datetime</th>\n",
       "      <th>start_station_id</th>\n",
       "      <th>avg_trip_duration</th>\n",
       "      <th>is_weekend</th>\n",
       "      <th>day_of_week</th>\n",
       "      <th>hour</th>\n",
       "    </tr>\n",
       "  </thead>\n",
       "  <tbody>\n",
       "    <tr>\n",
       "      <th>0</th>\n",
       "      <td>1</td>\n",
       "      <td>2013-06-01</td>\n",
       "      <td>72</td>\n",
       "      <td>1542.0</td>\n",
       "      <td>False</td>\n",
       "      <td>5</td>\n",
       "      <td>0</td>\n",
       "    </tr>\n",
       "    <tr>\n",
       "      <th>1</th>\n",
       "      <td>3</td>\n",
       "      <td>2013-06-01</td>\n",
       "      <td>79</td>\n",
       "      <td>947.0</td>\n",
       "      <td>False</td>\n",
       "      <td>5</td>\n",
       "      <td>0</td>\n",
       "    </tr>\n",
       "    <tr>\n",
       "      <th>2</th>\n",
       "      <td>1</td>\n",
       "      <td>2013-06-01</td>\n",
       "      <td>83</td>\n",
       "      <td>351.0</td>\n",
       "      <td>False</td>\n",
       "      <td>5</td>\n",
       "      <td>0</td>\n",
       "    </tr>\n",
       "    <tr>\n",
       "      <th>3</th>\n",
       "      <td>1</td>\n",
       "      <td>2013-06-01</td>\n",
       "      <td>143</td>\n",
       "      <td>915.0</td>\n",
       "      <td>False</td>\n",
       "      <td>5</td>\n",
       "      <td>0</td>\n",
       "    </tr>\n",
       "    <tr>\n",
       "      <th>4</th>\n",
       "      <td>1</td>\n",
       "      <td>2013-06-01</td>\n",
       "      <td>146</td>\n",
       "      <td>1181.0</td>\n",
       "      <td>False</td>\n",
       "      <td>5</td>\n",
       "      <td>0</td>\n",
       "    </tr>\n",
       "  </tbody>\n",
       "</table>\n",
       "</div>"
      ],
      "text/plain": [
       "   num_trips start_datetime  start_station_id  avg_trip_duration  is_weekend  \\\n",
       "0          1     2013-06-01                72             1542.0       False   \n",
       "1          3     2013-06-01                79              947.0       False   \n",
       "2          1     2013-06-01                83              351.0       False   \n",
       "3          1     2013-06-01               143              915.0       False   \n",
       "4          1     2013-06-01               146             1181.0       False   \n",
       "\n",
       "   day_of_week  hour  \n",
       "0            5     0  \n",
       "1            5     0  \n",
       "2            5     0  \n",
       "3            5     0  \n",
       "4            5     0  "
      ]
     },
     "execution_count": 6,
     "metadata": {},
     "output_type": "execute_result"
    }
   ],
   "source": [
    "# Import data\n",
    "df = pd.read_csv('data/bike_data_clean.csv')\n",
    "df['start_datetime'] = pd.to_datetime(df['start_datetime'])\n",
    "df.head()"
   ]
  },
  {
   "cell_type": "code",
   "execution_count": 4,
   "id": "7a3134f8",
   "metadata": {},
   "outputs": [
    {
     "name": "stdout",
     "output_type": "stream",
     "text": [
      "<class 'pandas.core.frame.DataFrame'>\n",
      "RangeIndex: 135263 entries, 0 to 135262\n",
      "Data columns (total 7 columns):\n",
      " #   Column             Non-Null Count   Dtype         \n",
      "---  ------             --------------   -----         \n",
      " 0   num_trips          135263 non-null  int64         \n",
      " 1   start_datetime     135263 non-null  datetime64[ns]\n",
      " 2   start_station_id   135263 non-null  int64         \n",
      " 3   avg_trip_duration  135263 non-null  float64       \n",
      " 4   is_weekend         135263 non-null  bool          \n",
      " 5   day_of_week        135263 non-null  int64         \n",
      " 6   hour               135263 non-null  int64         \n",
      "dtypes: bool(1), datetime64[ns](1), float64(1), int64(4)\n",
      "memory usage: 6.3 MB\n"
     ]
    }
   ],
   "source": [
    "df.info()"
   ]
  },
  {
   "cell_type": "code",
   "execution_count": 5,
   "id": "721f6dfa",
   "metadata": {
    "scrolled": true
   },
   "outputs": [
    {
     "data": {
      "text/html": [
       "<div>\n",
       "<style scoped>\n",
       "    .dataframe tbody tr th:only-of-type {\n",
       "        vertical-align: middle;\n",
       "    }\n",
       "\n",
       "    .dataframe tbody tr th {\n",
       "        vertical-align: top;\n",
       "    }\n",
       "\n",
       "    .dataframe thead th {\n",
       "        text-align: right;\n",
       "    }\n",
       "</style>\n",
       "<table border=\"1\" class=\"dataframe\">\n",
       "  <thead>\n",
       "    <tr style=\"text-align: right;\">\n",
       "      <th></th>\n",
       "      <th>num_trips</th>\n",
       "      <th>start_station_id</th>\n",
       "      <th>avg_trip_duration</th>\n",
       "      <th>is_weekend</th>\n",
       "      <th>day_of_week</th>\n",
       "      <th>hour</th>\n",
       "    </tr>\n",
       "  </thead>\n",
       "  <tbody>\n",
       "    <tr>\n",
       "      <th>num_trips</th>\n",
       "      <td>1.000000</td>\n",
       "      <td>-0.040211</td>\n",
       "      <td>-0.005261</td>\n",
       "      <td>-0.065386</td>\n",
       "      <td>0.076828</td>\n",
       "      <td>0.153500</td>\n",
       "    </tr>\n",
       "    <tr>\n",
       "      <th>start_station_id</th>\n",
       "      <td>-0.040211</td>\n",
       "      <td>1.000000</td>\n",
       "      <td>0.001049</td>\n",
       "      <td>0.000914</td>\n",
       "      <td>-0.000859</td>\n",
       "      <td>0.006623</td>\n",
       "    </tr>\n",
       "    <tr>\n",
       "      <th>avg_trip_duration</th>\n",
       "      <td>-0.005261</td>\n",
       "      <td>0.001049</td>\n",
       "      <td>1.000000</td>\n",
       "      <td>-0.005738</td>\n",
       "      <td>0.000371</td>\n",
       "      <td>-0.000180</td>\n",
       "    </tr>\n",
       "    <tr>\n",
       "      <th>is_weekend</th>\n",
       "      <td>-0.065386</td>\n",
       "      <td>0.000914</td>\n",
       "      <td>-0.005738</td>\n",
       "      <td>1.000000</td>\n",
       "      <td>-0.827093</td>\n",
       "      <td>-0.003935</td>\n",
       "    </tr>\n",
       "    <tr>\n",
       "      <th>day_of_week</th>\n",
       "      <td>0.076828</td>\n",
       "      <td>-0.000859</td>\n",
       "      <td>0.000371</td>\n",
       "      <td>-0.827093</td>\n",
       "      <td>1.000000</td>\n",
       "      <td>-0.009646</td>\n",
       "    </tr>\n",
       "    <tr>\n",
       "      <th>hour</th>\n",
       "      <td>0.153500</td>\n",
       "      <td>0.006623</td>\n",
       "      <td>-0.000180</td>\n",
       "      <td>-0.003935</td>\n",
       "      <td>-0.009646</td>\n",
       "      <td>1.000000</td>\n",
       "    </tr>\n",
       "  </tbody>\n",
       "</table>\n",
       "</div>"
      ],
      "text/plain": [
       "                   num_trips  start_station_id  avg_trip_duration  is_weekend  \\\n",
       "num_trips           1.000000         -0.040211          -0.005261   -0.065386   \n",
       "start_station_id   -0.040211          1.000000           0.001049    0.000914   \n",
       "avg_trip_duration  -0.005261          0.001049           1.000000   -0.005738   \n",
       "is_weekend         -0.065386          0.000914          -0.005738    1.000000   \n",
       "day_of_week         0.076828         -0.000859           0.000371   -0.827093   \n",
       "hour                0.153500          0.006623          -0.000180   -0.003935   \n",
       "\n",
       "                   day_of_week      hour  \n",
       "num_trips             0.076828  0.153500  \n",
       "start_station_id     -0.000859  0.006623  \n",
       "avg_trip_duration     0.000371 -0.000180  \n",
       "is_weekend           -0.827093 -0.003935  \n",
       "day_of_week           1.000000 -0.009646  \n",
       "hour                 -0.009646  1.000000  "
      ]
     },
     "execution_count": 5,
     "metadata": {},
     "output_type": "execute_result"
    }
   ],
   "source": [
    "df.corr()"
   ]
  },
  {
   "cell_type": "code",
   "execution_count": 6,
   "id": "8df4f16f",
   "metadata": {},
   "outputs": [
    {
     "data": {
      "text/html": [
       "<div>\n",
       "<style scoped>\n",
       "    .dataframe tbody tr th:only-of-type {\n",
       "        vertical-align: middle;\n",
       "    }\n",
       "\n",
       "    .dataframe tbody tr th {\n",
       "        vertical-align: top;\n",
       "    }\n",
       "\n",
       "    .dataframe thead th {\n",
       "        text-align: right;\n",
       "    }\n",
       "</style>\n",
       "<table border=\"1\" class=\"dataframe\">\n",
       "  <thead>\n",
       "    <tr style=\"text-align: right;\">\n",
       "      <th></th>\n",
       "      <th>num_trips</th>\n",
       "      <th>start_station_id</th>\n",
       "      <th>avg_trip_duration</th>\n",
       "      <th>day_of_week</th>\n",
       "      <th>hour</th>\n",
       "    </tr>\n",
       "  </thead>\n",
       "  <tbody>\n",
       "    <tr>\n",
       "      <th>count</th>\n",
       "      <td>135263.000000</td>\n",
       "      <td>135263.000000</td>\n",
       "      <td>1.352630e+05</td>\n",
       "      <td>135263.000000</td>\n",
       "      <td>135263.000000</td>\n",
       "    </tr>\n",
       "    <tr>\n",
       "      <th>mean</th>\n",
       "      <td>4.137451</td>\n",
       "      <td>455.401063</td>\n",
       "      <td>1.432476e+03</td>\n",
       "      <td>3.259347</td>\n",
       "      <td>13.573002</td>\n",
       "    </tr>\n",
       "    <tr>\n",
       "      <th>std</th>\n",
       "      <td>4.090622</td>\n",
       "      <td>403.231032</td>\n",
       "      <td>1.175319e+04</td>\n",
       "      <td>2.020372</td>\n",
       "      <td>5.842530</td>\n",
       "    </tr>\n",
       "    <tr>\n",
       "      <th>min</th>\n",
       "      <td>1.000000</td>\n",
       "      <td>72.000000</td>\n",
       "      <td>6.100000e+01</td>\n",
       "      <td>0.000000</td>\n",
       "      <td>0.000000</td>\n",
       "    </tr>\n",
       "    <tr>\n",
       "      <th>25%</th>\n",
       "      <td>1.000000</td>\n",
       "      <td>304.000000</td>\n",
       "      <td>6.427500e+02</td>\n",
       "      <td>2.000000</td>\n",
       "      <td>9.000000</td>\n",
       "    </tr>\n",
       "    <tr>\n",
       "      <th>50%</th>\n",
       "      <td>3.000000</td>\n",
       "      <td>393.000000</td>\n",
       "      <td>9.230000e+02</td>\n",
       "      <td>3.000000</td>\n",
       "      <td>14.000000</td>\n",
       "    </tr>\n",
       "    <tr>\n",
       "      <th>75%</th>\n",
       "      <td>5.000000</td>\n",
       "      <td>479.000000</td>\n",
       "      <td>1.289686e+03</td>\n",
       "      <td>5.000000</td>\n",
       "      <td>18.000000</td>\n",
       "    </tr>\n",
       "    <tr>\n",
       "      <th>max</th>\n",
       "      <td>58.000000</td>\n",
       "      <td>3020.000000</td>\n",
       "      <td>3.876479e+06</td>\n",
       "      <td>6.000000</td>\n",
       "      <td>23.000000</td>\n",
       "    </tr>\n",
       "  </tbody>\n",
       "</table>\n",
       "</div>"
      ],
      "text/plain": [
       "           num_trips  start_station_id  avg_trip_duration    day_of_week  \\\n",
       "count  135263.000000     135263.000000       1.352630e+05  135263.000000   \n",
       "mean        4.137451        455.401063       1.432476e+03       3.259347   \n",
       "std         4.090622        403.231032       1.175319e+04       2.020372   \n",
       "min         1.000000         72.000000       6.100000e+01       0.000000   \n",
       "25%         1.000000        304.000000       6.427500e+02       2.000000   \n",
       "50%         3.000000        393.000000       9.230000e+02       3.000000   \n",
       "75%         5.000000        479.000000       1.289686e+03       5.000000   \n",
       "max        58.000000       3020.000000       3.876479e+06       6.000000   \n",
       "\n",
       "                hour  \n",
       "count  135263.000000  \n",
       "mean       13.573002  \n",
       "std         5.842530  \n",
       "min         0.000000  \n",
       "25%         9.000000  \n",
       "50%        14.000000  \n",
       "75%        18.000000  \n",
       "max        23.000000  "
      ]
     },
     "execution_count": 6,
     "metadata": {},
     "output_type": "execute_result"
    }
   ],
   "source": [
    "df.describe()"
   ]
  },
  {
   "cell_type": "code",
   "execution_count": 7,
   "id": "5cc2786a",
   "metadata": {
    "scrolled": true
   },
   "outputs": [
    {
     "name": "stderr",
     "output_type": "stream",
     "text": [
      "<string>:6: RuntimeWarning: Converting input from bool to <class 'numpy.uint8'> for compatibility.\n",
      "<string>:6: RuntimeWarning: Converting input from bool to <class 'numpy.uint8'> for compatibility.\n"
     ]
    },
    {
     "data": {
      "text/plain": [
       "<seaborn.axisgrid.FacetGrid at 0x12bedb080>"
      ]
     },
     "execution_count": 7,
     "metadata": {},
     "output_type": "execute_result"
    },
    {
     "data": {
      "image/png": "[encoded data removed]",
      "text/plain": [
       "<Figure size 360x360 with 1 Axes>"
      ]
     },
     "metadata": {
      "needs_background": "light"
     },
     "output_type": "display_data"
    },
    {
     "data": {
      "image/png": "[encoded data removed]",
      "text/plain": [
       "<Figure size 360x360 with 1 Axes>"
      ]
     },
     "metadata": {
      "needs_background": "light"
     },
     "output_type": "display_data"
    },
    {
     "data": {
      "image/png": "[encoded data removed]",
      "text/plain": [
       "<Figure size 360x360 with 1 Axes>"
      ]
     },
     "metadata": {
      "needs_background": "light"
     },
     "output_type": "display_data"
    },
    {
     "data": {
      "image/png": "[encoded data removed]",
      "text/plain": [
       "<Figure size 360x360 with 1 Axes>"
      ]
     },
     "metadata": {
      "needs_background": "light"
     },
     "output_type": "display_data"
    }
   ],
   "source": [
    "# Plot distribution of num_trips, is_weekend, day_of_week, and hour\n",
    "sns.displot(df['num_trips'])\n",
    "sns.displot(df['is_weekend'])\n",
    "sns.displot(df['day_of_week'])\n",
    "sns.displot(df['hour'])"
   ]
  },
  {
   "cell_type": "markdown",
   "id": "09729e36",
   "metadata": {},
   "source": [
    "Note that num_trips does not look like a Gaussian distribution, so lets transform to a logarithmic distribution."
   ]
  },
  {
   "cell_type": "code",
   "execution_count": 11,
   "id": "efd5b2f3",
   "metadata": {
    "scrolled": false
   },
   "outputs": [
    {
     "data": {
      "text/html": [
       "<div>\n",
       "<style scoped>\n",
       "    .dataframe tbody tr th:only-of-type {\n",
       "        vertical-align: middle;\n",
       "    }\n",
       "\n",
       "    .dataframe tbody tr th {\n",
       "        vertical-align: top;\n",
       "    }\n",
       "\n",
       "    .dataframe thead th {\n",
       "        text-align: right;\n",
       "    }\n",
       "</style>\n",
       "<table border=\"1\" class=\"dataframe\">\n",
       "  <thead>\n",
       "    <tr style=\"text-align: right;\">\n",
       "      <th></th>\n",
       "      <th>num_trips</th>\n",
       "      <th>num_trips_log</th>\n",
       "      <th>start_datetime</th>\n",
       "      <th>start_station_id</th>\n",
       "      <th>avg_trip_duration</th>\n",
       "      <th>is_weekend</th>\n",
       "      <th>day_of_week</th>\n",
       "      <th>hour</th>\n",
       "    </tr>\n",
       "  </thead>\n",
       "  <tbody>\n",
       "    <tr>\n",
       "      <th>0</th>\n",
       "      <td>1</td>\n",
       "      <td>0.693147</td>\n",
       "      <td>2013-06-01</td>\n",
       "      <td>72</td>\n",
       "      <td>1542.0</td>\n",
       "      <td>False</td>\n",
       "      <td>5</td>\n",
       "      <td>0</td>\n",
       "    </tr>\n",
       "    <tr>\n",
       "      <th>1</th>\n",
       "      <td>3</td>\n",
       "      <td>1.386294</td>\n",
       "      <td>2013-06-01</td>\n",
       "      <td>79</td>\n",
       "      <td>947.0</td>\n",
       "      <td>False</td>\n",
       "      <td>5</td>\n",
       "      <td>0</td>\n",
       "    </tr>\n",
       "    <tr>\n",
       "      <th>2</th>\n",
       "      <td>1</td>\n",
       "      <td>0.693147</td>\n",
       "      <td>2013-06-01</td>\n",
       "      <td>83</td>\n",
       "      <td>351.0</td>\n",
       "      <td>False</td>\n",
       "      <td>5</td>\n",
       "      <td>0</td>\n",
       "    </tr>\n",
       "    <tr>\n",
       "      <th>3</th>\n",
       "      <td>1</td>\n",
       "      <td>0.693147</td>\n",
       "      <td>2013-06-01</td>\n",
       "      <td>143</td>\n",
       "      <td>915.0</td>\n",
       "      <td>False</td>\n",
       "      <td>5</td>\n",
       "      <td>0</td>\n",
       "    </tr>\n",
       "    <tr>\n",
       "      <th>4</th>\n",
       "      <td>1</td>\n",
       "      <td>0.693147</td>\n",
       "      <td>2013-06-01</td>\n",
       "      <td>146</td>\n",
       "      <td>1181.0</td>\n",
       "      <td>False</td>\n",
       "      <td>5</td>\n",
       "      <td>0</td>\n",
       "    </tr>\n",
       "  </tbody>\n",
       "</table>\n",
       "</div>"
      ],
      "text/plain": [
       "   num_trips  num_trips_log start_datetime  start_station_id  \\\n",
       "0          1       0.693147     2013-06-01                72   \n",
       "1          3       1.386294     2013-06-01                79   \n",
       "2          1       0.693147     2013-06-01                83   \n",
       "3          1       0.693147     2013-06-01               143   \n",
       "4          1       0.693147     2013-06-01               146   \n",
       "\n",
       "   avg_trip_duration  is_weekend  day_of_week  hour  \n",
       "0             1542.0       False            5     0  \n",
       "1              947.0       False            5     0  \n",
       "2              351.0       False            5     0  \n",
       "3              915.0       False            5     0  \n",
       "4             1181.0       False            5     0  "
      ]
     },
     "execution_count": 11,
     "metadata": {},
     "output_type": "execute_result"
    }
   ],
   "source": [
    "#df['num_trips_log'] = np.log1p(df['num_trips'])\n",
    "#df = df.reindex(columns=['num_trips', 'num_trips_log', 'start_datetime', 'start_station_id', 'avg_trip_duration', 'is_weekend', 'day_of_week', 'hour'])\n",
    "#df.head()"
   ]
  },
  {
   "cell_type": "code",
   "execution_count": 9,
   "id": "b334a7f2",
   "metadata": {
    "scrolled": true
   },
   "outputs": [
    {
     "data": {
      "text/plain": [
       "<seaborn.axisgrid.FacetGrid at 0x12e46b748>"
      ]
     },
     "execution_count": 9,
     "metadata": {},
     "output_type": "execute_result"
    },
    {
     "data": {
      "image/png": "[encoded data removed]",
      "text/plain": [
       "<Figure size 360x360 with 1 Axes>"
      ]
     },
     "metadata": {
      "needs_background": "light"
     },
     "output_type": "display_data"
    },
    {
     "data": {
      "image/png": "[encoded data removed]",
      "text/plain": [
       "<Figure size 360x360 with 1 Axes>"
      ]
     },
     "metadata": {
      "needs_background": "light"
     },
     "output_type": "display_data"
    }
   ],
   "source": [
    "# Plot num_trips_log distribution\n",
    "sns.displot(df['num_trips'])\n",
    "sns.displot(df['num_trips_log'])"
   ]
  },
  {
   "cell_type": "markdown",
   "id": "c18c549f",
   "metadata": {},
   "source": [
    "While num_trips_log still does not look Gaussian, lets test the ML model for predicting both num_trips and num_trips_log"
   ]
  },
  {
   "cell_type": "markdown",
   "id": "23226491",
   "metadata": {},
   "source": [
    "Now lets plot the num_trips over time"
   ]
  },
  {
   "cell_type": "code",
   "execution_count": 10,
   "id": "d57dd513",
   "metadata": {
    "scrolled": true
   },
   "outputs": [
    {
     "data": {
      "text/plain": [
       "<AxesSubplot:xlabel='start_datetime', ylabel='num_trips'>"
      ]
     },
     "execution_count": 10,
     "metadata": {},
     "output_type": "execute_result"
    },
    {
     "data": {
      "image/png": "[encoded data removed]",
      "text/plain": [
       "<Figure size 432x288 with 1 Axes>"
      ]
     },
     "metadata": {
      "needs_background": "light"
     },
     "output_type": "display_data"
    }
   ],
   "source": [
    "sns.lineplot(data=df, x='start_datetime', y='num_trips')"
   ]
  },
  {
   "cell_type": "code",
   "execution_count": 11,
   "id": "8d43625d",
   "metadata": {},
   "outputs": [
    {
     "data": {
      "text/plain": [
       "<AxesSubplot:xlabel='start_datetime', ylabel='num_trips_log'>"
      ]
     },
     "execution_count": 11,
     "metadata": {},
     "output_type": "execute_result"
    },
    {
     "data": {
      "image/png": "[encoded data removed]",
      "text/plain": [
       "<Figure size 432x288 with 1 Axes>"
      ]
     },
     "metadata": {
      "needs_background": "light"
     },
     "output_type": "display_data"
    }
   ],
   "source": [
    "sns.lineplot(data=df, x='start_datetime', y='num_trips_log')"
   ]
  },
  {
   "cell_type": "markdown",
   "id": "79c8a854",
   "metadata": {},
   "source": [
    "The number of trips appear to increase over the month, though this is less noticeable in the num_trips_log graph."
   ]
  },
  {
   "cell_type": "code",
   "execution_count": 12,
   "id": "05baed08",
   "metadata": {},
   "outputs": [
    {
     "data": {
      "text/plain": [
       "<AxesSubplot:xlabel='hour', ylabel='num_trips'>"
      ]
     },
     "execution_count": 12,
     "metadata": {},
     "output_type": "execute_result"
    },
    {
     "data": {
      "image/png": "[encoded data removed]",
      "text/plain": [
       "<Figure size 432x288 with 1 Axes>"
      ]
     },
     "metadata": {
      "needs_background": "light"
     },
     "output_type": "display_data"
    }
   ],
   "source": [
    "sns.lineplot(data=df, x='hour', y='num_trips')"
   ]
  },
  {
   "cell_type": "code",
   "execution_count": 13,
   "id": "c027c745",
   "metadata": {},
   "outputs": [
    {
     "data": {
      "text/plain": [
       "<AxesSubplot:xlabel='hour', ylabel='num_trips_log'>"
      ]
     },
     "execution_count": 13,
     "metadata": {},
     "output_type": "execute_result"
    },
    {
     "data": {
      "image/png": "[encoded data removed]",
      "text/plain": [
       "<Figure size 432x288 with 1 Axes>"
      ]
     },
     "metadata": {
      "needs_background": "light"
     },
     "output_type": "display_data"
    }
   ],
   "source": [
    "sns.lineplot(data=df, x='hour', y='num_trips_log')"
   ]
  },
  {
   "cell_type": "markdown",
   "id": "0a41efb5",
   "metadata": {},
   "source": [
    "The distribution of num_trips and num_trips_log by hour appears approximately the same. Note that this distribution appears to show that day hours and night hours are somewhat of a splitting point. Between approximately 7am and 9pm"
   ]
  },
  {
   "cell_type": "code",
   "execution_count": 14,
   "id": "ba42f639",
   "metadata": {},
   "outputs": [
    {
     "data": {
      "text/html": [
       "<div>\n",
       "<style scoped>\n",
       "    .dataframe tbody tr th:only-of-type {\n",
       "        vertical-align: middle;\n",
       "    }\n",
       "\n",
       "    .dataframe tbody tr th {\n",
       "        vertical-align: top;\n",
       "    }\n",
       "\n",
       "    .dataframe thead th {\n",
       "        text-align: right;\n",
       "    }\n",
       "</style>\n",
       "<table border=\"1\" class=\"dataframe\">\n",
       "  <thead>\n",
       "    <tr style=\"text-align: right;\">\n",
       "      <th></th>\n",
       "      <th>num_trips</th>\n",
       "      <th>num_trips_log</th>\n",
       "      <th>start_station_id</th>\n",
       "      <th>avg_trip_duration</th>\n",
       "      <th>is_weekend</th>\n",
       "      <th>day_of_week</th>\n",
       "      <th>hour</th>\n",
       "    </tr>\n",
       "  </thead>\n",
       "  <tbody>\n",
       "    <tr>\n",
       "      <th>num_trips</th>\n",
       "      <td>1.000000</td>\n",
       "      <td>0.921484</td>\n",
       "      <td>-0.040211</td>\n",
       "      <td>-0.005261</td>\n",
       "      <td>-0.065386</td>\n",
       "      <td>0.076828</td>\n",
       "      <td>0.153500</td>\n",
       "    </tr>\n",
       "    <tr>\n",
       "      <th>num_trips_log</th>\n",
       "      <td>0.921484</td>\n",
       "      <td>1.000000</td>\n",
       "      <td>-0.059509</td>\n",
       "      <td>-0.006495</td>\n",
       "      <td>-0.067546</td>\n",
       "      <td>0.081862</td>\n",
       "      <td>0.187580</td>\n",
       "    </tr>\n",
       "    <tr>\n",
       "      <th>start_station_id</th>\n",
       "      <td>-0.040211</td>\n",
       "      <td>-0.059509</td>\n",
       "      <td>1.000000</td>\n",
       "      <td>0.001049</td>\n",
       "      <td>0.000914</td>\n",
       "      <td>-0.000859</td>\n",
       "      <td>0.006623</td>\n",
       "    </tr>\n",
       "    <tr>\n",
       "      <th>avg_trip_duration</th>\n",
       "      <td>-0.005261</td>\n",
       "      <td>-0.006495</td>\n",
       "      <td>0.001049</td>\n",
       "      <td>1.000000</td>\n",
       "      <td>-0.005738</td>\n",
       "      <td>0.000371</td>\n",
       "      <td>-0.000180</td>\n",
       "    </tr>\n",
       "    <tr>\n",
       "      <th>is_weekend</th>\n",
       "      <td>-0.065386</td>\n",
       "      <td>-0.067546</td>\n",
       "      <td>0.000914</td>\n",
       "      <td>-0.005738</td>\n",
       "      <td>1.000000</td>\n",
       "      <td>-0.827093</td>\n",
       "      <td>-0.003935</td>\n",
       "    </tr>\n",
       "    <tr>\n",
       "      <th>day_of_week</th>\n",
       "      <td>0.076828</td>\n",
       "      <td>0.081862</td>\n",
       "      <td>-0.000859</td>\n",
       "      <td>0.000371</td>\n",
       "      <td>-0.827093</td>\n",
       "      <td>1.000000</td>\n",
       "      <td>-0.009646</td>\n",
       "    </tr>\n",
       "    <tr>\n",
       "      <th>hour</th>\n",
       "      <td>0.153500</td>\n",
       "      <td>0.187580</td>\n",
       "      <td>0.006623</td>\n",
       "      <td>-0.000180</td>\n",
       "      <td>-0.003935</td>\n",
       "      <td>-0.009646</td>\n",
       "      <td>1.000000</td>\n",
       "    </tr>\n",
       "  </tbody>\n",
       "</table>\n",
       "</div>"
      ],
      "text/plain": [
       "                   num_trips  num_trips_log  start_station_id  \\\n",
       "num_trips           1.000000       0.921484         -0.040211   \n",
       "num_trips_log       0.921484       1.000000         -0.059509   \n",
       "start_station_id   -0.040211      -0.059509          1.000000   \n",
       "avg_trip_duration  -0.005261      -0.006495          0.001049   \n",
       "is_weekend         -0.065386      -0.067546          0.000914   \n",
       "day_of_week         0.076828       0.081862         -0.000859   \n",
       "hour                0.153500       0.187580          0.006623   \n",
       "\n",
       "                   avg_trip_duration  is_weekend  day_of_week      hour  \n",
       "num_trips                  -0.005261   -0.065386     0.076828  0.153500  \n",
       "num_trips_log              -0.006495   -0.067546     0.081862  0.187580  \n",
       "start_station_id            0.001049    0.000914    -0.000859  0.006623  \n",
       "avg_trip_duration           1.000000   -0.005738     0.000371 -0.000180  \n",
       "is_weekend                 -0.005738    1.000000    -0.827093 -0.003935  \n",
       "day_of_week                 0.000371   -0.827093     1.000000 -0.009646  \n",
       "hour                       -0.000180   -0.003935    -0.009646  1.000000  "
      ]
     },
     "execution_count": 14,
     "metadata": {},
     "output_type": "execute_result"
    }
   ],
   "source": [
    "# Plot correlation matrix\n",
    "df.corr()"
   ]
  },
  {
   "cell_type": "code",
   "execution_count": 15,
   "id": "71fe8e0f",
   "metadata": {},
   "outputs": [
    {
     "data": {
      "text/plain": [
       "<AxesSubplot:>"
      ]
     },
     "execution_count": 15,
     "metadata": {},
     "output_type": "execute_result"
    },
    {
     "data": {
      "image/png": "[encoded data removed]",
      "text/plain": [
       "<Figure size 432x288 with 2 Axes>"
      ]
     },
     "metadata": {
      "needs_background": "light"
     },
     "output_type": "display_data"
    }
   ],
   "source": [
    "# Plot heatmap\n",
    "cmap = sns.diverging_palette(220, 10, as_cmap=True)\n",
    "sns.heatmap(df.corr(), cmap=cmap, linewidths=0.5)"
   ]
  },
  {
   "cell_type": "markdown",
   "id": "17aea247",
   "metadata": {},
   "source": [
    "Note that is_weekend and day_of_week are correlated. We should likely choose just one of them, but we will test this out with the XGBoost model and importance scores."
   ]
  },
  {
   "cell_type": "markdown",
   "id": "62bcb2fa",
   "metadata": {},
   "source": [
    "## Feature Engineering"
   ]
  },
  {
   "cell_type": "markdown",
   "id": "56d13e72",
   "metadata": {},
   "source": [
    "Because hour is a cyclical feature, we will encode it using cosine and sine"
   ]
  },
  {
   "cell_type": "code",
   "execution_count": 9,
   "id": "17ed032f",
   "metadata": {},
   "outputs": [
    {
     "data": {
      "text/html": [
       "<div>\n",
       "<style scoped>\n",
       "    .dataframe tbody tr th:only-of-type {\n",
       "        vertical-align: middle;\n",
       "    }\n",
       "\n",
       "    .dataframe tbody tr th {\n",
       "        vertical-align: top;\n",
       "    }\n",
       "\n",
       "    .dataframe thead th {\n",
       "        text-align: right;\n",
       "    }\n",
       "</style>\n",
       "<table border=\"1\" class=\"dataframe\">\n",
       "  <thead>\n",
       "    <tr style=\"text-align: right;\">\n",
       "      <th></th>\n",
       "      <th>num_trips</th>\n",
       "      <th>start_station_id</th>\n",
       "      <th>avg_trip_duration</th>\n",
       "      <th>is_weekend</th>\n",
       "      <th>day_of_week</th>\n",
       "      <th>hour</th>\n",
       "      <th>hour_sin</th>\n",
       "      <th>hour_cos</th>\n",
       "    </tr>\n",
       "  </thead>\n",
       "  <tbody>\n",
       "    <tr>\n",
       "      <th>0</th>\n",
       "      <td>1</td>\n",
       "      <td>72</td>\n",
       "      <td>1542.000000</td>\n",
       "      <td>False</td>\n",
       "      <td>5</td>\n",
       "      <td>0</td>\n",
       "      <td>0.000000e+00</td>\n",
       "      <td>1.0</td>\n",
       "    </tr>\n",
       "    <tr>\n",
       "      <th>1</th>\n",
       "      <td>3</td>\n",
       "      <td>79</td>\n",
       "      <td>947.000000</td>\n",
       "      <td>False</td>\n",
       "      <td>5</td>\n",
       "      <td>0</td>\n",
       "      <td>0.000000e+00</td>\n",
       "      <td>1.0</td>\n",
       "    </tr>\n",
       "    <tr>\n",
       "      <th>2</th>\n",
       "      <td>1</td>\n",
       "      <td>83</td>\n",
       "      <td>351.000000</td>\n",
       "      <td>False</td>\n",
       "      <td>5</td>\n",
       "      <td>0</td>\n",
       "      <td>0.000000e+00</td>\n",
       "      <td>1.0</td>\n",
       "    </tr>\n",
       "    <tr>\n",
       "      <th>3</th>\n",
       "      <td>1</td>\n",
       "      <td>143</td>\n",
       "      <td>915.000000</td>\n",
       "      <td>False</td>\n",
       "      <td>5</td>\n",
       "      <td>0</td>\n",
       "      <td>0.000000e+00</td>\n",
       "      <td>1.0</td>\n",
       "    </tr>\n",
       "    <tr>\n",
       "      <th>4</th>\n",
       "      <td>1</td>\n",
       "      <td>146</td>\n",
       "      <td>1181.000000</td>\n",
       "      <td>False</td>\n",
       "      <td>5</td>\n",
       "      <td>0</td>\n",
       "      <td>0.000000e+00</td>\n",
       "      <td>1.0</td>\n",
       "    </tr>\n",
       "    <tr>\n",
       "      <th>...</th>\n",
       "      <td>...</td>\n",
       "      <td>...</td>\n",
       "      <td>...</td>\n",
       "      <td>...</td>\n",
       "      <td>...</td>\n",
       "      <td>...</td>\n",
       "      <td>...</td>\n",
       "      <td>...</td>\n",
       "    </tr>\n",
       "    <tr>\n",
       "      <th>135258</th>\n",
       "      <td>2</td>\n",
       "      <td>2003</td>\n",
       "      <td>725.500000</td>\n",
       "      <td>False</td>\n",
       "      <td>6</td>\n",
       "      <td>23</td>\n",
       "      <td>-2.449294e-16</td>\n",
       "      <td>1.0</td>\n",
       "    </tr>\n",
       "    <tr>\n",
       "      <th>135259</th>\n",
       "      <td>3</td>\n",
       "      <td>2004</td>\n",
       "      <td>509.666667</td>\n",
       "      <td>False</td>\n",
       "      <td>6</td>\n",
       "      <td>23</td>\n",
       "      <td>-2.449294e-16</td>\n",
       "      <td>1.0</td>\n",
       "    </tr>\n",
       "    <tr>\n",
       "      <th>135260</th>\n",
       "      <td>2</td>\n",
       "      <td>2008</td>\n",
       "      <td>1086.000000</td>\n",
       "      <td>False</td>\n",
       "      <td>6</td>\n",
       "      <td>23</td>\n",
       "      <td>-2.449294e-16</td>\n",
       "      <td>1.0</td>\n",
       "    </tr>\n",
       "    <tr>\n",
       "      <th>135261</th>\n",
       "      <td>1</td>\n",
       "      <td>2022</td>\n",
       "      <td>450.000000</td>\n",
       "      <td>False</td>\n",
       "      <td>6</td>\n",
       "      <td>23</td>\n",
       "      <td>-2.449294e-16</td>\n",
       "      <td>1.0</td>\n",
       "    </tr>\n",
       "    <tr>\n",
       "      <th>135262</th>\n",
       "      <td>1</td>\n",
       "      <td>164</td>\n",
       "      <td>634.000000</td>\n",
       "      <td>True</td>\n",
       "      <td>0</td>\n",
       "      <td>0</td>\n",
       "      <td>0.000000e+00</td>\n",
       "      <td>1.0</td>\n",
       "    </tr>\n",
       "  </tbody>\n",
       "</table>\n",
       "<p>135263 rows × 8 columns</p>\n",
       "</div>"
      ],
      "text/plain": [
       "        num_trips  start_station_id  avg_trip_duration  is_weekend  \\\n",
       "0               1                72        1542.000000       False   \n",
       "1               3                79         947.000000       False   \n",
       "2               1                83         351.000000       False   \n",
       "3               1               143         915.000000       False   \n",
       "4               1               146        1181.000000       False   \n",
       "...           ...               ...                ...         ...   \n",
       "135258          2              2003         725.500000       False   \n",
       "135259          3              2004         509.666667       False   \n",
       "135260          2              2008        1086.000000       False   \n",
       "135261          1              2022         450.000000       False   \n",
       "135262          1               164         634.000000        True   \n",
       "\n",
       "        day_of_week  hour      hour_sin  hour_cos  \n",
       "0                 5     0  0.000000e+00       1.0  \n",
       "1                 5     0  0.000000e+00       1.0  \n",
       "2                 5     0  0.000000e+00       1.0  \n",
       "3                 5     0  0.000000e+00       1.0  \n",
       "4                 5     0  0.000000e+00       1.0  \n",
       "...             ...   ...           ...       ...  \n",
       "135258            6    23 -2.449294e-16       1.0  \n",
       "135259            6    23 -2.449294e-16       1.0  \n",
       "135260            6    23 -2.449294e-16       1.0  \n",
       "135261            6    23 -2.449294e-16       1.0  \n",
       "135262            0     0  0.000000e+00       1.0  \n",
       "\n",
       "[135263 rows x 8 columns]"
      ]
     },
     "execution_count": 9,
     "metadata": {},
     "output_type": "execute_result"
    }
   ],
   "source": [
    "# Encode time series with cyclical features\n",
    "df['hour_sin'] = np.sin((2 * np.pi * df['hour']) / max(df['hour']))\n",
    "df['hour_cos'] = np.cos((2 * np.pi * df['hour']) / max(df['hour']))\n",
    "df.drop(columns=['start_datetime'], inplace=True)\n",
    "df"
   ]
  },
  {
   "cell_type": "markdown",
   "id": "4536a948",
   "metadata": {},
   "source": [
    "We previously noticed that bike demand was significantly different during the day and at night. Let's add a is_daytime column with a 1 between the hours of 7am to 9pm"
   ]
  },
  {
   "cell_type": "code",
   "execution_count": 10,
   "id": "9f32c549",
   "metadata": {
    "scrolled": false
   },
   "outputs": [
    {
     "data": {
      "text/html": [
       "<div>\n",
       "<style scoped>\n",
       "    .dataframe tbody tr th:only-of-type {\n",
       "        vertical-align: middle;\n",
       "    }\n",
       "\n",
       "    .dataframe tbody tr th {\n",
       "        vertical-align: top;\n",
       "    }\n",
       "\n",
       "    .dataframe thead th {\n",
       "        text-align: right;\n",
       "    }\n",
       "</style>\n",
       "<table border=\"1\" class=\"dataframe\">\n",
       "  <thead>\n",
       "    <tr style=\"text-align: right;\">\n",
       "      <th></th>\n",
       "      <th>num_trips</th>\n",
       "      <th>start_station_id</th>\n",
       "      <th>avg_trip_duration</th>\n",
       "      <th>is_weekend</th>\n",
       "      <th>day_of_week</th>\n",
       "      <th>hour</th>\n",
       "      <th>hour_sin</th>\n",
       "      <th>hour_cos</th>\n",
       "      <th>is_daytime</th>\n",
       "    </tr>\n",
       "  </thead>\n",
       "  <tbody>\n",
       "    <tr>\n",
       "      <th>0</th>\n",
       "      <td>1</td>\n",
       "      <td>72</td>\n",
       "      <td>1542.0</td>\n",
       "      <td>False</td>\n",
       "      <td>5</td>\n",
       "      <td>0</td>\n",
       "      <td>0.0</td>\n",
       "      <td>1.0</td>\n",
       "      <td>False</td>\n",
       "    </tr>\n",
       "    <tr>\n",
       "      <th>1</th>\n",
       "      <td>3</td>\n",
       "      <td>79</td>\n",
       "      <td>947.0</td>\n",
       "      <td>False</td>\n",
       "      <td>5</td>\n",
       "      <td>0</td>\n",
       "      <td>0.0</td>\n",
       "      <td>1.0</td>\n",
       "      <td>False</td>\n",
       "    </tr>\n",
       "    <tr>\n",
       "      <th>2</th>\n",
       "      <td>1</td>\n",
       "      <td>83</td>\n",
       "      <td>351.0</td>\n",
       "      <td>False</td>\n",
       "      <td>5</td>\n",
       "      <td>0</td>\n",
       "      <td>0.0</td>\n",
       "      <td>1.0</td>\n",
       "      <td>False</td>\n",
       "    </tr>\n",
       "    <tr>\n",
       "      <th>3</th>\n",
       "      <td>1</td>\n",
       "      <td>143</td>\n",
       "      <td>915.0</td>\n",
       "      <td>False</td>\n",
       "      <td>5</td>\n",
       "      <td>0</td>\n",
       "      <td>0.0</td>\n",
       "      <td>1.0</td>\n",
       "      <td>False</td>\n",
       "    </tr>\n",
       "    <tr>\n",
       "      <th>4</th>\n",
       "      <td>1</td>\n",
       "      <td>146</td>\n",
       "      <td>1181.0</td>\n",
       "      <td>False</td>\n",
       "      <td>5</td>\n",
       "      <td>0</td>\n",
       "      <td>0.0</td>\n",
       "      <td>1.0</td>\n",
       "      <td>False</td>\n",
       "    </tr>\n",
       "  </tbody>\n",
       "</table>\n",
       "</div>"
      ],
      "text/plain": [
       "   num_trips  start_station_id  avg_trip_duration  is_weekend  day_of_week  \\\n",
       "0          1                72             1542.0       False            5   \n",
       "1          3                79              947.0       False            5   \n",
       "2          1                83              351.0       False            5   \n",
       "3          1               143              915.0       False            5   \n",
       "4          1               146             1181.0       False            5   \n",
       "\n",
       "   hour  hour_sin  hour_cos  is_daytime  \n",
       "0     0       0.0       1.0       False  \n",
       "1     0       0.0       1.0       False  \n",
       "2     0       0.0       1.0       False  \n",
       "3     0       0.0       1.0       False  \n",
       "4     0       0.0       1.0       False  "
      ]
     },
     "execution_count": 10,
     "metadata": {},
     "output_type": "execute_result"
    }
   ],
   "source": [
    "# Add day/night hours\n",
    "# df['is_daytime'] = (df['hour'] >= 7 and df['hour'] <= 21)\n",
    "# df.head()\n",
    "df['is_daytime'] = (df['hour']>=7) & (df['hour']<=21)\n",
    "df.head()"
   ]
  },
  {
   "cell_type": "code",
   "execution_count": 18,
   "id": "cf6581c2",
   "metadata": {},
   "outputs": [
    {
     "name": "stdout",
     "output_type": "stream",
     "text": [
      "<class 'pandas.core.frame.DataFrame'>\n",
      "RangeIndex: 135263 entries, 0 to 135262\n",
      "Data columns (total 10 columns):\n",
      " #   Column             Non-Null Count   Dtype  \n",
      "---  ------             --------------   -----  \n",
      " 0   num_trips          135263 non-null  int64  \n",
      " 1   num_trips_log      135263 non-null  float64\n",
      " 2   start_station_id   135263 non-null  int64  \n",
      " 3   avg_trip_duration  135263 non-null  float64\n",
      " 4   is_weekend         135263 non-null  bool   \n",
      " 5   day_of_week        135263 non-null  int64  \n",
      " 6   hour               135263 non-null  int64  \n",
      " 7   hour_sin           135263 non-null  float64\n",
      " 8   hour_cos           135263 non-null  float64\n",
      " 9   is_daytime         135263 non-null  bool   \n",
      "dtypes: bool(2), float64(4), int64(4)\n",
      "memory usage: 8.5 MB\n"
     ]
    }
   ],
   "source": [
    "df.info()"
   ]
  },
  {
   "cell_type": "markdown",
   "id": "a7702fbb",
   "metadata": {},
   "source": [
    "## Train XGBoost Model"
   ]
  },
  {
   "cell_type": "markdown",
   "id": "cd61eb98",
   "metadata": {},
   "source": [
    "### Testing Train/Test Sizes"
   ]
  },
  {
   "cell_type": "code",
   "execution_count": 11,
   "id": "e4162473",
   "metadata": {},
   "outputs": [],
   "source": [
    "# Split data into X, y, and y_log\n",
    "X = df.iloc[0:,1:]\n",
    "y = df.iloc[:,0:1]"
   ]
  },
  {
   "cell_type": "markdown",
   "id": "f03ae091",
   "metadata": {},
   "source": [
    "Because we are predicting bike demand in the future, we want to train data in the past and test data in the future. Let's test the model with different splits"
   ]
  },
  {
   "cell_type": "code",
   "execution_count": 12,
   "id": "dad6308d",
   "metadata": {},
   "outputs": [
    {
     "name": "stdout",
     "output_type": "stream",
     "text": [
      "TEST SIZE: 0.25\n",
      "RMSE for predicting counts: 3.600551\n",
      "TEST SIZE: 0.5\n",
      "RMSE for predicting counts: 3.869581\n",
      "TEST SIZE: 0.75\n",
      "RMSE for predicting counts: 3.938893\n"
     ]
    }
   ],
   "source": [
    "# Create model\n",
    "model = xgb.XGBRegressor()\n",
    "\n",
    "# Test model for different splits\n",
    "# The test sizes represent approximately 1 week, 2 weeks, and 3 weeks\n",
    "test_sizes = [0.1, 0.2, 0.3, 0.4, 0.5, 0.6, 0.7, 0.8, 0.9]\n",
    "for test_size in test_sizes:\n",
    "    print(f\"TEST SIZE: {test_size}\", )\n",
    "    # Test/train for that split\n",
    "    X_train, X_test, y_train, y_test = train_test_split(X, y, test_size=test_size, shuffle=False)\n",
    "    # For non-scaled counts\n",
    "    model.fit(X_train,y_train)\n",
    "    preds = model.predict(X_test)\n",
    "    rmse = np.sqrt(mean_squared_error(y_test, preds))\n",
    "    print(\"RMSE for predicting counts: %f\" % (rmse))"
   ]
  },
  {
   "cell_type": "markdown",
   "id": "b16a6805",
   "metadata": {},
   "source": [
    "For predicting both counts and the scaled counts, the test size of 0.25 achieved the lowest RMSE and RMLSE."
   ]
  },
  {
   "cell_type": "markdown",
   "id": "0606d117",
   "metadata": {},
   "source": [
    "### Feature Selection"
   ]
  },
  {
   "cell_type": "markdown",
   "id": "4c1eea9d",
   "metadata": {},
   "source": [
    "Test features to use in the non-transformed counts model"
   ]
  },
  {
   "cell_type": "code",
   "execution_count": 23,
   "id": "7c1e8a42",
   "metadata": {},
   "outputs": [
    {
     "name": "stdout",
     "output_type": "stream",
     "text": [
      "Thresh=0.069, n=8, RMSE: 3.600551\n",
      "Thresh=0.086, n=7, RMSE: 3.566647\n",
      "Thresh=0.088, n=6, RMSE: 3.571752\n",
      "Thresh=0.104, n=5, RMSE: 3.627475\n",
      "Thresh=0.131, n=4, RMSE: 3.626722\n",
      "Thresh=0.155, n=3, RMSE: 4.321752\n",
      "Thresh=0.162, n=2, RMSE: 4.373879\n",
      "Thresh=0.206, n=1, RMSE: 4.373879\n"
     ]
    },
    {
     "data": {
      "text/plain": [
       "<AxesSubplot:title={'center':'Feature importance'}, xlabel='F score', ylabel='Features'>"
      ]
     },
     "execution_count": 23,
     "metadata": {},
     "output_type": "execute_result"
    },
    {
     "data": {
      "image/png": "[encoded data removed]",
      "text/plain": [
       "<Figure size 432x288 with 1 Axes>"
      ]
     },
     "metadata": {
      "needs_background": "light"
     },
     "output_type": "display_data"
    }
   ],
   "source": [
    "model = xgb.XGBRegressor()\n",
    "best_split = 0.25\n",
    "\n",
    "# Counts\n",
    "X_train, X_test, y_train, y_test = train_test_split(X, y, test_size=best_split, shuffle=False)\n",
    "model.fit(X_train, y_train)\n",
    "preds = model.predict(X_test)\n",
    "rmse = np.sqrt(mean_squared_error(y_test, preds))\n",
    "\n",
    "thresholds = np.sort(model.feature_importances_)\n",
    "for thresh in thresholds:\n",
    "    # select features above threshold\n",
    "    selection = SelectFromModel(model, threshold=thresh, prefit=True)\n",
    "    select_X_train = selection.transform(X_train)\n",
    "    # train model\n",
    "    selection_model = xgb.XGBRegressor()\n",
    "    selection_model.fit(select_X_train, y_train)\n",
    "    # evaluate model\n",
    "    select_X_test = selection.transform(X_test)\n",
    "    preds = selection_model.predict(select_X_test)\n",
    "    rmse = np.sqrt(mean_squared_error(y_test, preds))\n",
    "    print(\"Thresh=%.3f, n=%d, RMSE: %lf\" % (thresh, select_X_train.shape[1], rmse))\n",
    "\n",
    "# Transformed Count\n",
    "X_train, X_test, y_train, y_test = train_test_split(X, y, test_size=best_split, shuffle=False)\n",
    "xgb.plot_importance(model)"
   ]
  },
  {
   "cell_type": "markdown",
   "id": "9bc5a677",
   "metadata": {},
   "source": [
    "RMSE is reduced the most when is_daytime is excluded from the dataset. Thus, lets remove is_daytime"
   ]
  },
  {
   "cell_type": "code",
   "execution_count": 13,
   "id": "659e2f39",
   "metadata": {},
   "outputs": [],
   "source": [
    "df.drop(columns=['is_daytime'], inplace=True)"
   ]
  },
  {
   "cell_type": "code",
   "execution_count": 14,
   "id": "a436a0f0",
   "metadata": {
    "scrolled": false
   },
   "outputs": [
    {
     "data": {
      "text/html": [
       "<div>\n",
       "<style scoped>\n",
       "    .dataframe tbody tr th:only-of-type {\n",
       "        vertical-align: middle;\n",
       "    }\n",
       "\n",
       "    .dataframe tbody tr th {\n",
       "        vertical-align: top;\n",
       "    }\n",
       "\n",
       "    .dataframe thead th {\n",
       "        text-align: right;\n",
       "    }\n",
       "</style>\n",
       "<table border=\"1\" class=\"dataframe\">\n",
       "  <thead>\n",
       "    <tr style=\"text-align: right;\">\n",
       "      <th></th>\n",
       "      <th>num_trips</th>\n",
       "      <th>start_station_id</th>\n",
       "      <th>avg_trip_duration</th>\n",
       "      <th>is_weekend</th>\n",
       "      <th>day_of_week</th>\n",
       "      <th>hour</th>\n",
       "      <th>hour_sin</th>\n",
       "      <th>hour_cos</th>\n",
       "    </tr>\n",
       "  </thead>\n",
       "  <tbody>\n",
       "    <tr>\n",
       "      <th>0</th>\n",
       "      <td>1</td>\n",
       "      <td>72</td>\n",
       "      <td>1542.0</td>\n",
       "      <td>False</td>\n",
       "      <td>5</td>\n",
       "      <td>0</td>\n",
       "      <td>0.0</td>\n",
       "      <td>1.0</td>\n",
       "    </tr>\n",
       "    <tr>\n",
       "      <th>1</th>\n",
       "      <td>3</td>\n",
       "      <td>79</td>\n",
       "      <td>947.0</td>\n",
       "      <td>False</td>\n",
       "      <td>5</td>\n",
       "      <td>0</td>\n",
       "      <td>0.0</td>\n",
       "      <td>1.0</td>\n",
       "    </tr>\n",
       "    <tr>\n",
       "      <th>2</th>\n",
       "      <td>1</td>\n",
       "      <td>83</td>\n",
       "      <td>351.0</td>\n",
       "      <td>False</td>\n",
       "      <td>5</td>\n",
       "      <td>0</td>\n",
       "      <td>0.0</td>\n",
       "      <td>1.0</td>\n",
       "    </tr>\n",
       "    <tr>\n",
       "      <th>3</th>\n",
       "      <td>1</td>\n",
       "      <td>143</td>\n",
       "      <td>915.0</td>\n",
       "      <td>False</td>\n",
       "      <td>5</td>\n",
       "      <td>0</td>\n",
       "      <td>0.0</td>\n",
       "      <td>1.0</td>\n",
       "    </tr>\n",
       "    <tr>\n",
       "      <th>4</th>\n",
       "      <td>1</td>\n",
       "      <td>146</td>\n",
       "      <td>1181.0</td>\n",
       "      <td>False</td>\n",
       "      <td>5</td>\n",
       "      <td>0</td>\n",
       "      <td>0.0</td>\n",
       "      <td>1.0</td>\n",
       "    </tr>\n",
       "  </tbody>\n",
       "</table>\n",
       "</div>"
      ],
      "text/plain": [
       "   num_trips  start_station_id  avg_trip_duration  is_weekend  day_of_week  \\\n",
       "0          1                72             1542.0       False            5   \n",
       "1          3                79              947.0       False            5   \n",
       "2          1                83              351.0       False            5   \n",
       "3          1               143              915.0       False            5   \n",
       "4          1               146             1181.0       False            5   \n",
       "\n",
       "   hour  hour_sin  hour_cos  \n",
       "0     0       0.0       1.0  \n",
       "1     0       0.0       1.0  \n",
       "2     0       0.0       1.0  \n",
       "3     0       0.0       1.0  \n",
       "4     0       0.0       1.0  "
      ]
     },
     "execution_count": 14,
     "metadata": {},
     "output_type": "execute_result"
    }
   ],
   "source": [
    "df.head()"
   ]
  },
  {
   "cell_type": "code",
   "execution_count": 18,
   "id": "1cfdc042",
   "metadata": {},
   "outputs": [],
   "source": [
    "# Split data into X and y\n",
    "best_split = 0.25\n",
    "X = df.iloc[0:,1:]\n",
    "y = df.iloc[:,0:1]\n",
    "X_train, X_test, y_train, y_test = train_test_split(X, y, test_size=best_split, shuffle=False)"
   ]
  },
  {
   "cell_type": "markdown",
   "id": "19a80f58",
   "metadata": {},
   "source": [
    "### Hyperparameter Tuning"
   ]
  },
  {
   "cell_type": "code",
   "execution_count": 19,
   "id": "6d80b2d4",
   "metadata": {},
   "outputs": [],
   "source": [
    "def print_results(results):\n",
    "    print('BEST PARAMS: {}\\n'.format(results.best_params_))\n",
    "\n",
    "    means = results.cv_results_['mean_test_score']\n",
    "    stds = results.cv_results_['std_test_score']\n",
    "    for mean, std, params in zip(means, stds, results.cv_results_['params']):\n",
    "        print('{} (+/-{}) for {}'.format(round(mean, 3), round(std * 2, 3), params))"
   ]
  },
  {
   "cell_type": "code",
   "execution_count": 20,
   "id": "9d9a619b",
   "metadata": {},
   "outputs": [],
   "source": [
    "def rmse(actual, predict):\n",
    "    predict = np.array(predict)\n",
    "    actual = np.array(actual)\n",
    "    distance = predict - actual\n",
    "    square_distance = distance ** 2\n",
    "    mean_square_distance = square_distance.mean()\n",
    "    score = np.sqrt(mean_square_distance)\n",
    "    \n",
    "    return score\n",
    "\n",
    "rmse_scorer = make_scorer(rmse, greater_is_better=False)"
   ]
  },
  {
   "cell_type": "code",
   "execution_count": 85,
   "id": "82bf59b6",
   "metadata": {},
   "outputs": [
    {
     "name": "stdout",
     "output_type": "stream",
     "text": [
      "BEST PARAMS: {'max_depth': 8, 'min_child_weight': 11}\n",
      "\n",
      "-3.398 (+/-1.066) for {'max_depth': 2, 'min_child_weight': 2}\n",
      "-3.398 (+/-1.066) for {'max_depth': 2, 'min_child_weight': 5}\n",
      "-3.396 (+/-1.066) for {'max_depth': 2, 'min_child_weight': 8}\n",
      "-3.396 (+/-1.066) for {'max_depth': 2, 'min_child_weight': 11}\n",
      "-3.139 (+/-0.903) for {'max_depth': 5, 'min_child_weight': 2}\n",
      "-3.143 (+/-0.907) for {'max_depth': 5, 'min_child_weight': 5}\n",
      "-3.145 (+/-0.897) for {'max_depth': 5, 'min_child_weight': 8}\n",
      "-3.142 (+/-0.897) for {'max_depth': 5, 'min_child_weight': 11}\n",
      "-3.116 (+/-0.791) for {'max_depth': 8, 'min_child_weight': 2}\n",
      "-3.107 (+/-0.792) for {'max_depth': 8, 'min_child_weight': 5}\n",
      "-3.102 (+/-0.787) for {'max_depth': 8, 'min_child_weight': 8}\n",
      "-3.097 (+/-0.791) for {'max_depth': 8, 'min_child_weight': 11}\n",
      "-3.187 (+/-0.707) for {'max_depth': 11, 'min_child_weight': 2}\n",
      "-3.161 (+/-0.723) for {'max_depth': 11, 'min_child_weight': 5}\n",
      "-3.149 (+/-0.723) for {'max_depth': 11, 'min_child_weight': 8}\n",
      "-3.143 (+/-0.724) for {'max_depth': 11, 'min_child_weight': 11}\n"
     ]
    }
   ],
   "source": [
    "# Train max_depth and min_child_weight\n",
    "# These parameters add constraints on the architectures of the trees, and should be trained together\n",
    "xgbGridCV = xgb.XGBRegressor()\n",
    "\n",
    "# max_depth: max number of nodes allowed from root to leaf\n",
    "# Too large a depth can overfit\n",
    "# min_child_weight: minimum weight required to create a new node in the tree\n",
    "# smaller values allow for children to be created with fewer samples\n",
    "parameters = {\n",
    "    'max_depth' : [2, 5, 8, 11],\n",
    "    'min_child_weight' : [2, 5, 8, 11],\n",
    "}\n",
    "\n",
    "# Using cross validation in training sets\n",
    "cv = GridSearchCV(xgbGridCV, parameters, cv=5, scoring=rmse_scorer)\n",
    "cv.fit(X_train, y_train.values.ravel())\n",
    "\n",
    "print_results(cv)"
   ]
  },
  {
   "cell_type": "code",
   "execution_count": 37,
   "id": "c6ca1124",
   "metadata": {},
   "outputs": [
    {
     "name": "stdout",
     "output_type": "stream",
     "text": [
      "RMSE of preds, y_test: 3.5389842839690786\n"
     ]
    }
   ],
   "source": [
    "# Now make predictions based on this model and compare to y_test\n",
    "preds = cv.best_estimator_.predict(X_test)\n",
    "rmse = np.sqrt(mean_squared_error(y_test, preds))\n",
    "print(f\"RMSE of preds, y_test: {rmse}\")\n",
    "\n",
    "\n",
    "#     preds = model.predict(X_test)\n",
    "#     rmse = np.sqrt(mean_squared_error(y_test, preds))"
   ]
  },
  {
   "cell_type": "code",
   "execution_count": 87,
   "id": "6293f56c",
   "metadata": {},
   "outputs": [
    {
     "name": "stdout",
     "output_type": "stream",
     "text": [
      "BEST PARAMS: {'learning_rate': 0.1, 'max_depth': 8, 'min_child_weight': 11, 'n_estimators': 500}\n",
      "\n",
      "-5.091 (+/-1.793) for {'learning_rate': 0.0001, 'max_depth': 8, 'min_child_weight': 11, 'n_estimators': 10}\n",
      "-5.087 (+/-1.794) for {'learning_rate': 0.0001, 'max_depth': 8, 'min_child_weight': 11, 'n_estimators': 25}\n",
      "-5.08 (+/-1.794) for {'learning_rate': 0.0001, 'max_depth': 8, 'min_child_weight': 11, 'n_estimators': 50}\n",
      "-5.066 (+/-1.795) for {'learning_rate': 0.0001, 'max_depth': 8, 'min_child_weight': 11, 'n_estimators': 100}\n",
      "-5.038 (+/-1.797) for {'learning_rate': 0.0001, 'max_depth': 8, 'min_child_weight': 11, 'n_estimators': 200}\n",
      "-4.983 (+/-1.802) for {'learning_rate': 0.0001, 'max_depth': 8, 'min_child_weight': 11, 'n_estimators': 400}\n",
      "-4.956 (+/-1.804) for {'learning_rate': 0.0001, 'max_depth': 8, 'min_child_weight': 11, 'n_estimators': 500}\n",
      "-5.066 (+/-1.795) for {'learning_rate': 0.001, 'max_depth': 8, 'min_child_weight': 11, 'n_estimators': 10}\n",
      "-5.024 (+/-1.799) for {'learning_rate': 0.001, 'max_depth': 8, 'min_child_weight': 11, 'n_estimators': 25}\n",
      "-4.956 (+/-1.804) for {'learning_rate': 0.001, 'max_depth': 8, 'min_child_weight': 11, 'n_estimators': 50}\n",
      "-4.828 (+/-1.814) for {'learning_rate': 0.001, 'max_depth': 8, 'min_child_weight': 11, 'n_estimators': 100}\n",
      "-4.598 (+/-1.826) for {'learning_rate': 0.001, 'max_depth': 8, 'min_child_weight': 11, 'n_estimators': 200}\n",
      "-4.237 (+/-1.821) for {'learning_rate': 0.001, 'max_depth': 8, 'min_child_weight': 11, 'n_estimators': 400}\n",
      "-4.096 (+/-1.805) for {'learning_rate': 0.001, 'max_depth': 8, 'min_child_weight': 11, 'n_estimators': 500}\n",
      "-4.826 (+/-1.814) for {'learning_rate': 0.01, 'max_depth': 8, 'min_child_weight': 11, 'n_estimators': 10}\n",
      "-4.495 (+/-1.829) for {'learning_rate': 0.01, 'max_depth': 8, 'min_child_weight': 11, 'n_estimators': 25}\n",
      "-4.093 (+/-1.805) for {'learning_rate': 0.01, 'max_depth': 8, 'min_child_weight': 11, 'n_estimators': 50}\n",
      "-3.67 (+/-1.658) for {'learning_rate': 0.01, 'max_depth': 8, 'min_child_weight': 11, 'n_estimators': 100}\n",
      "-3.418 (+/-1.34) for {'learning_rate': 0.01, 'max_depth': 8, 'min_child_weight': 11, 'n_estimators': 200}\n",
      "-3.302 (+/-1.092) for {'learning_rate': 0.01, 'max_depth': 8, 'min_child_weight': 11, 'n_estimators': 400}\n",
      "-3.262 (+/-1.041) for {'learning_rate': 0.01, 'max_depth': 8, 'min_child_weight': 11, 'n_estimators': 500}\n",
      "-3.647 (+/-1.636) for {'learning_rate': 0.1, 'max_depth': 8, 'min_child_weight': 11, 'n_estimators': 10}\n",
      "-3.376 (+/-1.22) for {'learning_rate': 0.1, 'max_depth': 8, 'min_child_weight': 11, 'n_estimators': 25}\n",
      "-3.247 (+/-1.025) for {'learning_rate': 0.1, 'max_depth': 8, 'min_child_weight': 11, 'n_estimators': 50}\n",
      "-3.139 (+/-0.927) for {'learning_rate': 0.1, 'max_depth': 8, 'min_child_weight': 11, 'n_estimators': 100}\n",
      "-3.088 (+/-0.848) for {'learning_rate': 0.1, 'max_depth': 8, 'min_child_weight': 11, 'n_estimators': 200}\n",
      "-3.074 (+/-0.794) for {'learning_rate': 0.1, 'max_depth': 8, 'min_child_weight': 11, 'n_estimators': 400}\n",
      "-3.073 (+/-0.779) for {'learning_rate': 0.1, 'max_depth': 8, 'min_child_weight': 11, 'n_estimators': 500}\n",
      "-3.394 (+/-1.279) for {'learning_rate': 0.2, 'max_depth': 8, 'min_child_weight': 11, 'n_estimators': 10}\n",
      "-3.246 (+/-1.011) for {'learning_rate': 0.2, 'max_depth': 8, 'min_child_weight': 11, 'n_estimators': 25}\n",
      "-3.137 (+/-0.923) for {'learning_rate': 0.2, 'max_depth': 8, 'min_child_weight': 11, 'n_estimators': 50}\n",
      "-3.095 (+/-0.833) for {'learning_rate': 0.2, 'max_depth': 8, 'min_child_weight': 11, 'n_estimators': 100}\n",
      "-3.088 (+/-0.777) for {'learning_rate': 0.2, 'max_depth': 8, 'min_child_weight': 11, 'n_estimators': 200}\n",
      "-3.089 (+/-0.738) for {'learning_rate': 0.2, 'max_depth': 8, 'min_child_weight': 11, 'n_estimators': 400}\n",
      "-3.091 (+/-0.724) for {'learning_rate': 0.2, 'max_depth': 8, 'min_child_weight': 11, 'n_estimators': 500}\n",
      "-3.345 (+/-1.116) for {'learning_rate': 0.3, 'max_depth': 8, 'min_child_weight': 11, 'n_estimators': 10}\n",
      "-3.17 (+/-0.97) for {'learning_rate': 0.3, 'max_depth': 8, 'min_child_weight': 11, 'n_estimators': 25}\n",
      "-3.113 (+/-0.86) for {'learning_rate': 0.3, 'max_depth': 8, 'min_child_weight': 11, 'n_estimators': 50}\n",
      "-3.097 (+/-0.791) for {'learning_rate': 0.3, 'max_depth': 8, 'min_child_weight': 11, 'n_estimators': 100}\n",
      "-3.099 (+/-0.742) for {'learning_rate': 0.3, 'max_depth': 8, 'min_child_weight': 11, 'n_estimators': 200}\n",
      "-3.111 (+/-0.7) for {'learning_rate': 0.3, 'max_depth': 8, 'min_child_weight': 11, 'n_estimators': 400}\n",
      "-3.115 (+/-0.688) for {'learning_rate': 0.3, 'max_depth': 8, 'min_child_weight': 11, 'n_estimators': 500}\n"
     ]
    }
   ],
   "source": [
    "# Now train n_estimators and learning_rate together\n",
    "\n",
    "# learning_rate\n",
    "# weighting factor for the corrections by new trees when adding to the model\n",
    "# values < 1 has effect of making less corrections for each tree added to the model\n",
    "# this in turn results in more trees that must be added to the model\n",
    "\n",
    "# n_estimators\n",
    "# the number of decision trees\n",
    "\n",
    "parameters = {\n",
    "    'max_depth': [8],\n",
    "    'min_child_weight': [11],\n",
    "    'n_estimators' : [10, 25, 50, 100, 200, 400, 500],\n",
    "    'learning_rate' : [0.0001, 0.001, 0.01, 0.1, 0.2, 0.3],\n",
    "}\n",
    "\n",
    "# Using cross validation in training sets\n",
    "cv = GridSearchCV(xgbGridCV, parameters, cv=5, scoring=rmse_scorer)\n",
    "cv.fit(X_train, y_train.values.ravel())\n",
    "\n",
    "print_results(cv)"
   ]
  },
  {
   "cell_type": "code",
   "execution_count": 19,
   "id": "e27e33ab",
   "metadata": {},
   "outputs": [
    {
     "name": "stdout",
     "output_type": "stream",
     "text": [
      "RMSE of preds, y_test: 3.494576124826666\n"
     ]
    }
   ],
   "source": [
    "# Now make predictions based on this model and compare to y_test\n",
    "preds = cv.best_estimator_.predict(X_test)\n",
    "rmse = np.sqrt(mean_squared_error(y_test, preds))\n",
    "print(f\"RMSE of preds, y_test: {rmse}\")\n",
    "\n",
    "\n",
    "#     preds = model.predict(X_test)\n",
    "#     rmse = np.sqrt(mean_squared_error(y_test, preds))"
   ]
  },
  {
   "cell_type": "code",
   "execution_count": 20,
   "id": "3c6984f6",
   "metadata": {},
   "outputs": [
    {
     "name": "stdout",
     "output_type": "stream",
     "text": [
      "BEST PARAMS: {'colsample_bytree': 0.8, 'learning_rate': 0.1, 'max_depth': 8, 'min_child_weight': 11, 'n_estimators': 500, 'subsample': 0.9}\n",
      "\n",
      "-3.091 (+/-0.758) for {'colsample_bytree': 0.5, 'learning_rate': 0.1, 'max_depth': 8, 'min_child_weight': 11, 'n_estimators': 500, 'subsample': 0.5}\n",
      "-3.083 (+/-0.776) for {'colsample_bytree': 0.5, 'learning_rate': 0.1, 'max_depth': 8, 'min_child_weight': 11, 'n_estimators': 500, 'subsample': 0.6}\n",
      "-3.071 (+/-0.784) for {'colsample_bytree': 0.5, 'learning_rate': 0.1, 'max_depth': 8, 'min_child_weight': 11, 'n_estimators': 500, 'subsample': 0.7}\n",
      "-3.069 (+/-0.787) for {'colsample_bytree': 0.5, 'learning_rate': 0.1, 'max_depth': 8, 'min_child_weight': 11, 'n_estimators': 500, 'subsample': 0.8}\n",
      "-3.059 (+/-0.792) for {'colsample_bytree': 0.5, 'learning_rate': 0.1, 'max_depth': 8, 'min_child_weight': 11, 'n_estimators': 500, 'subsample': 0.9}\n",
      "-3.064 (+/-0.815) for {'colsample_bytree': 0.5, 'learning_rate': 0.1, 'max_depth': 8, 'min_child_weight': 11, 'n_estimators': 500, 'subsample': 1.0}\n",
      "-3.091 (+/-0.758) for {'colsample_bytree': 0.6, 'learning_rate': 0.1, 'max_depth': 8, 'min_child_weight': 11, 'n_estimators': 500, 'subsample': 0.5}\n",
      "-3.083 (+/-0.776) for {'colsample_bytree': 0.6, 'learning_rate': 0.1, 'max_depth': 8, 'min_child_weight': 11, 'n_estimators': 500, 'subsample': 0.6}\n",
      "-3.071 (+/-0.784) for {'colsample_bytree': 0.6, 'learning_rate': 0.1, 'max_depth': 8, 'min_child_weight': 11, 'n_estimators': 500, 'subsample': 0.7}\n",
      "-3.069 (+/-0.787) for {'colsample_bytree': 0.6, 'learning_rate': 0.1, 'max_depth': 8, 'min_child_weight': 11, 'n_estimators': 500, 'subsample': 0.8}\n",
      "-3.059 (+/-0.792) for {'colsample_bytree': 0.6, 'learning_rate': 0.1, 'max_depth': 8, 'min_child_weight': 11, 'n_estimators': 500, 'subsample': 0.9}\n",
      "-3.064 (+/-0.815) for {'colsample_bytree': 0.6, 'learning_rate': 0.1, 'max_depth': 8, 'min_child_weight': 11, 'n_estimators': 500, 'subsample': 1.0}\n",
      "-3.098 (+/-0.751) for {'colsample_bytree': 0.7, 'learning_rate': 0.1, 'max_depth': 8, 'min_child_weight': 11, 'n_estimators': 500, 'subsample': 0.5}\n",
      "-3.083 (+/-0.748) for {'colsample_bytree': 0.7, 'learning_rate': 0.1, 'max_depth': 8, 'min_child_weight': 11, 'n_estimators': 500, 'subsample': 0.6}\n",
      "-3.074 (+/-0.765) for {'colsample_bytree': 0.7, 'learning_rate': 0.1, 'max_depth': 8, 'min_child_weight': 11, 'n_estimators': 500, 'subsample': 0.7}\n",
      "-3.067 (+/-0.774) for {'colsample_bytree': 0.7, 'learning_rate': 0.1, 'max_depth': 8, 'min_child_weight': 11, 'n_estimators': 500, 'subsample': 0.8}\n",
      "-3.059 (+/-0.773) for {'colsample_bytree': 0.7, 'learning_rate': 0.1, 'max_depth': 8, 'min_child_weight': 11, 'n_estimators': 500, 'subsample': 0.9}\n",
      "-3.062 (+/-0.797) for {'colsample_bytree': 0.7, 'learning_rate': 0.1, 'max_depth': 8, 'min_child_weight': 11, 'n_estimators': 500, 'subsample': 1.0}\n",
      "-3.101 (+/-0.741) for {'colsample_bytree': 0.8, 'learning_rate': 0.1, 'max_depth': 8, 'min_child_weight': 11, 'n_estimators': 500, 'subsample': 0.5}\n",
      "-3.085 (+/-0.753) for {'colsample_bytree': 0.8, 'learning_rate': 0.1, 'max_depth': 8, 'min_child_weight': 11, 'n_estimators': 500, 'subsample': 0.6}\n",
      "-3.074 (+/-0.757) for {'colsample_bytree': 0.8, 'learning_rate': 0.1, 'max_depth': 8, 'min_child_weight': 11, 'n_estimators': 500, 'subsample': 0.7}\n",
      "-3.069 (+/-0.762) for {'colsample_bytree': 0.8, 'learning_rate': 0.1, 'max_depth': 8, 'min_child_weight': 11, 'n_estimators': 500, 'subsample': 0.8}\n",
      "-3.057 (+/-0.771) for {'colsample_bytree': 0.8, 'learning_rate': 0.1, 'max_depth': 8, 'min_child_weight': 11, 'n_estimators': 500, 'subsample': 0.9}\n",
      "-3.061 (+/-0.785) for {'colsample_bytree': 0.8, 'learning_rate': 0.1, 'max_depth': 8, 'min_child_weight': 11, 'n_estimators': 500, 'subsample': 1.0}\n",
      "-3.108 (+/-0.738) for {'colsample_bytree': 0.9, 'learning_rate': 0.1, 'max_depth': 8, 'min_child_weight': 11, 'n_estimators': 500, 'subsample': 0.5}\n",
      "-3.091 (+/-0.75) for {'colsample_bytree': 0.9, 'learning_rate': 0.1, 'max_depth': 8, 'min_child_weight': 11, 'n_estimators': 500, 'subsample': 0.6}\n",
      "-3.079 (+/-0.75) for {'colsample_bytree': 0.9, 'learning_rate': 0.1, 'max_depth': 8, 'min_child_weight': 11, 'n_estimators': 500, 'subsample': 0.7}\n",
      "-3.071 (+/-0.763) for {'colsample_bytree': 0.9, 'learning_rate': 0.1, 'max_depth': 8, 'min_child_weight': 11, 'n_estimators': 500, 'subsample': 0.8}\n",
      "-3.068 (+/-0.771) for {'colsample_bytree': 0.9, 'learning_rate': 0.1, 'max_depth': 8, 'min_child_weight': 11, 'n_estimators': 500, 'subsample': 0.9}\n",
      "-3.064 (+/-0.789) for {'colsample_bytree': 0.9, 'learning_rate': 0.1, 'max_depth': 8, 'min_child_weight': 11, 'n_estimators': 500, 'subsample': 1.0}\n",
      "-3.112 (+/-0.747) for {'colsample_bytree': 1.0, 'learning_rate': 0.1, 'max_depth': 8, 'min_child_weight': 11, 'n_estimators': 500, 'subsample': 0.5}\n",
      "-3.099 (+/-0.756) for {'colsample_bytree': 1.0, 'learning_rate': 0.1, 'max_depth': 8, 'min_child_weight': 11, 'n_estimators': 500, 'subsample': 0.6}\n",
      "-3.086 (+/-0.763) for {'colsample_bytree': 1.0, 'learning_rate': 0.1, 'max_depth': 8, 'min_child_weight': 11, 'n_estimators': 500, 'subsample': 0.7}\n",
      "-3.079 (+/-0.767) for {'colsample_bytree': 1.0, 'learning_rate': 0.1, 'max_depth': 8, 'min_child_weight': 11, 'n_estimators': 500, 'subsample': 0.8}\n",
      "-3.075 (+/-0.766) for {'colsample_bytree': 1.0, 'learning_rate': 0.1, 'max_depth': 8, 'min_child_weight': 11, 'n_estimators': 500, 'subsample': 0.9}\n",
      "-3.073 (+/-0.779) for {'colsample_bytree': 1.0, 'learning_rate': 0.1, 'max_depth': 8, 'min_child_weight': 11, 'n_estimators': 500, 'subsample': 1.0}\n"
     ]
    }
   ],
   "source": [
    "# Now train subsample and colsample_bytree - \n",
    "# these control the sampling of the dataset that is done at each boosting round\n",
    "# They make it less likely to overfit to a single sample or feature\n",
    "\n",
    "#subsample - fraction of observations to subsample at each step\n",
    "# colsample_bytree - fraction of features (the columns) to use\n",
    "\n",
    "parameters = {\n",
    "    'max_depth': [8],\n",
    "    'min_child_weight': [11],\n",
    "    'n_estimators' : [500],\n",
    "    'learning_rate' : [0.1],\n",
    "    'subsample': [0.5, 0.6, 0.7, 0.8, 0.9, 1.0],\n",
    "    'colsample_bytree': [0.5, 0.6, 0.7, 0.8, 0.9, 1.0]\n",
    "}\n",
    "\n",
    "# Using cross validation in training sets\n",
    "cv = GridSearchCV(xgbGridCV, parameters, cv=5, scoring=rmse_scorer)\n",
    "cv.fit(X_train, y_train.values.ravel())\n",
    "\n",
    "print_results(cv)"
   ]
  },
  {
   "cell_type": "code",
   "execution_count": 21,
   "id": "e6a4ace6",
   "metadata": {},
   "outputs": [
    {
     "name": "stdout",
     "output_type": "stream",
     "text": [
      "RMSE of preds, y_test: 3.4791012402615653\n"
     ]
    }
   ],
   "source": [
    "# Now make predictions based on this model and compare to y_test\n",
    "preds = cv.best_estimator_.predict(X_test)\n",
    "rmse = np.sqrt(mean_squared_error(y_test, preds))\n",
    "print(f\"RMSE of preds, y_test: {rmse}\")\n",
    "\n",
    "\n",
    "#     preds = model.predict(X_test)\n",
    "#     rmse = np.sqrt(mean_squared_error(y_test, preds))"
   ]
  },
  {
   "cell_type": "code",
   "execution_count": 21,
   "id": "7ff152e3",
   "metadata": {},
   "outputs": [
    {
     "name": "stdout",
     "output_type": "stream",
     "text": [
      "BEST PARAMS: {'colsample_bytree': 0.8, 'learning_rate': 0.1, 'max_depth': 8, 'min_child_weight': 11, 'n_estimators': 500, 'subsample': 0.9}\n",
      "\n",
      "-3.058 (+/-0.772) for {'colsample_bytree': 0.8, 'learning_rate': 0.1, 'max_depth': 8, 'min_child_weight': 11, 'n_estimators': 500, 'subsample': 0.9}\n"
     ]
    }
   ],
   "source": [
    "# Now lets run the model with only the best parameters\n",
    "xgbGridCV = xgb.XGBRegressor()\n",
    "\n",
    "parameters = {\n",
    "    'max_depth': [8],\n",
    "    'min_child_weight': [11],\n",
    "    'n_estimators' : [500],\n",
    "    'learning_rate' : [0.1],\n",
    "    'subsample': [0.9],\n",
    "    'colsample_bytree': [0.8]\n",
    "}\n",
    "\n",
    "# Using cross validation in training sets\n",
    "cv = GridSearchCV(xgbGridCV, parameters, cv=5, scoring=rmse_scorer)\n",
    "cv.fit(X_train, y_train.values.ravel())\n",
    "\n",
    "print_results(cv)"
   ]
  },
  {
   "cell_type": "code",
   "execution_count": 23,
   "id": "8678189d",
   "metadata": {},
   "outputs": [
    {
     "name": "stdout",
     "output_type": "stream",
     "text": [
      "RMSE of preds, y_test: 3.476735858665495\n"
     ]
    }
   ],
   "source": [
    "# Now make predictions based on this model and compare to y_test\n",
    "preds = cv.best_estimator_.predict(X_test)\n",
    "rmse = np.sqrt(mean_squared_error(y_test, preds))\n",
    "print(f\"RMSE of preds, y_test: {rmse}\")\n",
    "\n",
    "\n",
    "#     preds = model.predict(X_test)\n",
    "#     rmse = np.sqrt(mean_squared_error(y_test, preds))"
   ]
  },
  {
   "cell_type": "markdown",
   "id": "4662fce0",
   "metadata": {},
   "source": [
    "## Plot Actual vs Predicted"
   ]
  },
  {
   "cell_type": "code",
   "execution_count": 24,
   "id": "81cf4f5f",
   "metadata": {},
   "outputs": [
    {
     "data": {
      "text/html": [
       "<div>\n",
       "<style scoped>\n",
       "    .dataframe tbody tr th:only-of-type {\n",
       "        vertical-align: middle;\n",
       "    }\n",
       "\n",
       "    .dataframe tbody tr th {\n",
       "        vertical-align: top;\n",
       "    }\n",
       "\n",
       "    .dataframe thead th {\n",
       "        text-align: right;\n",
       "    }\n",
       "</style>\n",
       "<table border=\"1\" class=\"dataframe\">\n",
       "  <thead>\n",
       "    <tr style=\"text-align: right;\">\n",
       "      <th></th>\n",
       "      <th>start_station_id</th>\n",
       "      <th>avg_trip_duration</th>\n",
       "      <th>is_weekend</th>\n",
       "      <th>day_of_week</th>\n",
       "      <th>hour</th>\n",
       "      <th>hour_sin</th>\n",
       "      <th>hour_cos</th>\n",
       "      <th>num_trips</th>\n",
       "      <th>preds</th>\n",
       "    </tr>\n",
       "  </thead>\n",
       "  <tbody>\n",
       "    <tr>\n",
       "      <th>101447</th>\n",
       "      <td>392</td>\n",
       "      <td>622.600000</td>\n",
       "      <td>True</td>\n",
       "      <td>0</td>\n",
       "      <td>19</td>\n",
       "      <td>-0.887885</td>\n",
       "      <td>0.460065</td>\n",
       "      <td>5</td>\n",
       "      <td>3.126657</td>\n",
       "    </tr>\n",
       "    <tr>\n",
       "      <th>101448</th>\n",
       "      <td>393</td>\n",
       "      <td>1070.000000</td>\n",
       "      <td>True</td>\n",
       "      <td>0</td>\n",
       "      <td>19</td>\n",
       "      <td>-0.887885</td>\n",
       "      <td>0.460065</td>\n",
       "      <td>1</td>\n",
       "      <td>3.602127</td>\n",
       "    </tr>\n",
       "    <tr>\n",
       "      <th>101449</th>\n",
       "      <td>394</td>\n",
       "      <td>744.375000</td>\n",
       "      <td>True</td>\n",
       "      <td>0</td>\n",
       "      <td>19</td>\n",
       "      <td>-0.887885</td>\n",
       "      <td>0.460065</td>\n",
       "      <td>8</td>\n",
       "      <td>4.592235</td>\n",
       "    </tr>\n",
       "    <tr>\n",
       "      <th>101450</th>\n",
       "      <td>395</td>\n",
       "      <td>362.250000</td>\n",
       "      <td>True</td>\n",
       "      <td>0</td>\n",
       "      <td>19</td>\n",
       "      <td>-0.887885</td>\n",
       "      <td>0.460065</td>\n",
       "      <td>4</td>\n",
       "      <td>1.408107</td>\n",
       "    </tr>\n",
       "    <tr>\n",
       "      <th>101451</th>\n",
       "      <td>396</td>\n",
       "      <td>1101.666667</td>\n",
       "      <td>True</td>\n",
       "      <td>0</td>\n",
       "      <td>19</td>\n",
       "      <td>-0.887885</td>\n",
       "      <td>0.460065</td>\n",
       "      <td>3</td>\n",
       "      <td>3.188900</td>\n",
       "    </tr>\n",
       "  </tbody>\n",
       "</table>\n",
       "</div>"
      ],
      "text/plain": [
       "        start_station_id  avg_trip_duration  is_weekend  day_of_week  hour  \\\n",
       "101447               392         622.600000        True            0    19   \n",
       "101448               393        1070.000000        True            0    19   \n",
       "101449               394         744.375000        True            0    19   \n",
       "101450               395         362.250000        True            0    19   \n",
       "101451               396        1101.666667        True            0    19   \n",
       "\n",
       "        hour_sin  hour_cos  num_trips     preds  \n",
       "101447 -0.887885  0.460065          5  3.126657  \n",
       "101448 -0.887885  0.460065          1  3.602127  \n",
       "101449 -0.887885  0.460065          8  4.592235  \n",
       "101450 -0.887885  0.460065          4  1.408107  \n",
       "101451 -0.887885  0.460065          3  3.188900  "
      ]
     },
     "execution_count": 24,
     "metadata": {},
     "output_type": "execute_result"
    }
   ],
   "source": [
    "# Combine X_test, y_test, preds\n",
    "combined_df = pd.concat([X_test, y_test], axis=1)\n",
    "combined_df['preds'] = preds\n",
    "combined_df.head()"
   ]
  },
  {
   "cell_type": "code",
   "execution_count": 25,
   "id": "44586ad5",
   "metadata": {},
   "outputs": [],
   "source": [
    "# Find max station, median station\n",
    "sum_trips_df = df.groupby(['start_station_id'])['num_trips'].sum()\n",
    "\n",
    "max_trips = sum_trips_df.max()\n",
    "median_trips = sum_trips_df.median()\n",
    "\n",
    "max_station = sum_trips_df[sum_trips_df == max_trips].index[0]\n",
    "median_station = sum_trips_df[sum_trips_df == median_trips].index[0]"
   ]
  },
  {
   "cell_type": "code",
   "execution_count": 26,
   "id": "04021aab",
   "metadata": {},
   "outputs": [
    {
     "data": {
      "text/plain": [
       "(33816,)"
      ]
     },
     "execution_count": 26,
     "metadata": {},
     "output_type": "execute_result"
    }
   ],
   "source": [
    "# Graph median station actual vs predictions\n",
    "preds.shape"
   ]
  },
  {
   "cell_type": "code",
   "execution_count": 27,
   "id": "d38f7a21",
   "metadata": {},
   "outputs": [
    {
     "data": {
      "text/plain": [
       "(33816, 1)"
      ]
     },
     "execution_count": 27,
     "metadata": {},
     "output_type": "execute_result"
    }
   ],
   "source": [
    "y_test.shape"
   ]
  },
  {
   "cell_type": "code",
   "execution_count": 28,
   "id": "6ce977a4",
   "metadata": {},
   "outputs": [
    {
     "data": {
      "text/html": [
       "<div>\n",
       "<style scoped>\n",
       "    .dataframe tbody tr th:only-of-type {\n",
       "        vertical-align: middle;\n",
       "    }\n",
       "\n",
       "    .dataframe tbody tr th {\n",
       "        vertical-align: top;\n",
       "    }\n",
       "\n",
       "    .dataframe thead th {\n",
       "        text-align: right;\n",
       "    }\n",
       "</style>\n",
       "<table border=\"1\" class=\"dataframe\">\n",
       "  <thead>\n",
       "    <tr style=\"text-align: right;\">\n",
       "      <th></th>\n",
       "      <th>start_station_id</th>\n",
       "      <th>avg_trip_duration</th>\n",
       "      <th>is_weekend</th>\n",
       "      <th>day_of_week</th>\n",
       "      <th>hour</th>\n",
       "      <th>hour_sin</th>\n",
       "      <th>hour_cos</th>\n",
       "      <th>num_trips</th>\n",
       "      <th>preds</th>\n",
       "    </tr>\n",
       "  </thead>\n",
       "  <tbody>\n",
       "    <tr>\n",
       "      <th>101644</th>\n",
       "      <td>252</td>\n",
       "      <td>435.500000</td>\n",
       "      <td>True</td>\n",
       "      <td>0</td>\n",
       "      <td>20</td>\n",
       "      <td>-7.308360e-01</td>\n",
       "      <td>0.682553</td>\n",
       "      <td>2</td>\n",
       "      <td>2.656050</td>\n",
       "    </tr>\n",
       "    <tr>\n",
       "      <th>101931</th>\n",
       "      <td>252</td>\n",
       "      <td>407.000000</td>\n",
       "      <td>True</td>\n",
       "      <td>0</td>\n",
       "      <td>21</td>\n",
       "      <td>-5.195840e-01</td>\n",
       "      <td>0.854419</td>\n",
       "      <td>1</td>\n",
       "      <td>2.251285</td>\n",
       "    </tr>\n",
       "    <tr>\n",
       "      <th>102183</th>\n",
       "      <td>252</td>\n",
       "      <td>736.000000</td>\n",
       "      <td>True</td>\n",
       "      <td>0</td>\n",
       "      <td>22</td>\n",
       "      <td>-2.697968e-01</td>\n",
       "      <td>0.962917</td>\n",
       "      <td>3</td>\n",
       "      <td>2.603936</td>\n",
       "    </tr>\n",
       "    <tr>\n",
       "      <th>102408</th>\n",
       "      <td>252</td>\n",
       "      <td>1809.000000</td>\n",
       "      <td>True</td>\n",
       "      <td>0</td>\n",
       "      <td>23</td>\n",
       "      <td>-2.449294e-16</td>\n",
       "      <td>1.000000</td>\n",
       "      <td>1</td>\n",
       "      <td>2.148494</td>\n",
       "    </tr>\n",
       "    <tr>\n",
       "      <th>102582</th>\n",
       "      <td>252</td>\n",
       "      <td>638.625000</td>\n",
       "      <td>True</td>\n",
       "      <td>1</td>\n",
       "      <td>0</td>\n",
       "      <td>0.000000e+00</td>\n",
       "      <td>1.000000</td>\n",
       "      <td>8</td>\n",
       "      <td>1.892748</td>\n",
       "    </tr>\n",
       "    <tr>\n",
       "      <th>...</th>\n",
       "      <td>...</td>\n",
       "      <td>...</td>\n",
       "      <td>...</td>\n",
       "      <td>...</td>\n",
       "      <td>...</td>\n",
       "      <td>...</td>\n",
       "      <td>...</td>\n",
       "      <td>...</td>\n",
       "      <td>...</td>\n",
       "    </tr>\n",
       "    <tr>\n",
       "      <th>133728</th>\n",
       "      <td>252</td>\n",
       "      <td>808.428571</td>\n",
       "      <td>False</td>\n",
       "      <td>6</td>\n",
       "      <td>18</td>\n",
       "      <td>-9.790841e-01</td>\n",
       "      <td>0.203456</td>\n",
       "      <td>7</td>\n",
       "      <td>4.812878</td>\n",
       "    </tr>\n",
       "    <tr>\n",
       "      <th>134326</th>\n",
       "      <td>252</td>\n",
       "      <td>908.750000</td>\n",
       "      <td>False</td>\n",
       "      <td>6</td>\n",
       "      <td>20</td>\n",
       "      <td>-7.308360e-01</td>\n",
       "      <td>0.682553</td>\n",
       "      <td>4</td>\n",
       "      <td>4.362845</td>\n",
       "    </tr>\n",
       "    <tr>\n",
       "      <th>134617</th>\n",
       "      <td>252</td>\n",
       "      <td>222.000000</td>\n",
       "      <td>False</td>\n",
       "      <td>6</td>\n",
       "      <td>21</td>\n",
       "      <td>-5.195840e-01</td>\n",
       "      <td>0.854419</td>\n",
       "      <td>1</td>\n",
       "      <td>2.256448</td>\n",
       "    </tr>\n",
       "    <tr>\n",
       "      <th>134878</th>\n",
       "      <td>252</td>\n",
       "      <td>689.500000</td>\n",
       "      <td>False</td>\n",
       "      <td>6</td>\n",
       "      <td>22</td>\n",
       "      <td>-2.697968e-01</td>\n",
       "      <td>0.962917</td>\n",
       "      <td>2</td>\n",
       "      <td>3.278805</td>\n",
       "    </tr>\n",
       "    <tr>\n",
       "      <th>135106</th>\n",
       "      <td>252</td>\n",
       "      <td>954.000000</td>\n",
       "      <td>False</td>\n",
       "      <td>6</td>\n",
       "      <td>23</td>\n",
       "      <td>-2.449294e-16</td>\n",
       "      <td>1.000000</td>\n",
       "      <td>2</td>\n",
       "      <td>3.011672</td>\n",
       "    </tr>\n",
       "  </tbody>\n",
       "</table>\n",
       "<p>119 rows × 9 columns</p>\n",
       "</div>"
      ],
      "text/plain": [
       "        start_station_id  avg_trip_duration  is_weekend  day_of_week  hour  \\\n",
       "101644               252         435.500000        True            0    20   \n",
       "101931               252         407.000000        True            0    21   \n",
       "102183               252         736.000000        True            0    22   \n",
       "102408               252        1809.000000        True            0    23   \n",
       "102582               252         638.625000        True            1     0   \n",
       "...                  ...                ...         ...          ...   ...   \n",
       "133728               252         808.428571       False            6    18   \n",
       "134326               252         908.750000       False            6    20   \n",
       "134617               252         222.000000       False            6    21   \n",
       "134878               252         689.500000       False            6    22   \n",
       "135106               252         954.000000       False            6    23   \n",
       "\n",
       "            hour_sin  hour_cos  num_trips     preds  \n",
       "101644 -7.308360e-01  0.682553          2  2.656050  \n",
       "101931 -5.195840e-01  0.854419          1  2.251285  \n",
       "102183 -2.697968e-01  0.962917          3  2.603936  \n",
       "102408 -2.449294e-16  1.000000          1  2.148494  \n",
       "102582  0.000000e+00  1.000000          8  1.892748  \n",
       "...              ...       ...        ...       ...  \n",
       "133728 -9.790841e-01  0.203456          7  4.812878  \n",
       "134326 -7.308360e-01  0.682553          4  4.362845  \n",
       "134617 -5.195840e-01  0.854419          1  2.256448  \n",
       "134878 -2.697968e-01  0.962917          2  3.278805  \n",
       "135106 -2.449294e-16  1.000000          2  3.011672  \n",
       "\n",
       "[119 rows x 9 columns]"
      ]
     },
     "execution_count": 28,
     "metadata": {},
     "output_type": "execute_result"
    }
   ],
   "source": [
    "# Get max/median station values\n",
    "max_station_df = combined_df.loc[df['start_station_id'] == max_station]\n",
    "median_station_df = combined_df.loc[df['start_station_id'] == median_station]\n",
    "median_station_df"
   ]
  },
  {
   "cell_type": "code",
   "execution_count": 29,
   "id": "56ae5124",
   "metadata": {},
   "outputs": [],
   "source": [
    "# Join max/median station with original df to get original datetimes\n",
    "bike_df = pd.read_csv('data/bike_data_clean.csv')\n",
    "median_station_df = median_station_df.merge(bike_df)\n",
    "max_station_df = max_station_df.merge(bike_df)"
   ]
  },
  {
   "cell_type": "code",
   "execution_count": 34,
   "id": "4bfbbf0e",
   "metadata": {},
   "outputs": [
    {
     "data": {
      "text/plain": [
       "<AxesSubplot:xlabel='start_datetime'>"
      ]
     },
     "execution_count": 34,
     "metadata": {},
     "output_type": "execute_result"
    },
    {
     "data": {
      "image/png": "[encoded data removed]",
      "text/plain": [
       "<Figure size 1080x504 with 1 Axes>"
      ]
     },
     "metadata": {
      "needs_background": "light"
     },
     "output_type": "display_data"
    }
   ],
   "source": [
    "# Plot of max_station\n",
    "max_station_df.plot(x='start_datetime', y=['num_trips', 'preds'], figsize=(15,7))"
   ]
  },
  {
   "cell_type": "code",
   "execution_count": 35,
   "id": "8b8247d5",
   "metadata": {},
   "outputs": [
    {
     "data": {
      "text/plain": [
       "<AxesSubplot:xlabel='start_datetime'>"
      ]
     },
     "execution_count": 35,
     "metadata": {},
     "output_type": "execute_result"
    },
    {
     "data": {
      "image/png": "[encoded data removed]",
      "text/plain": [
       "<Figure size 1080x504 with 1 Axes>"
      ]
     },
     "metadata": {
      "needs_background": "light"
     },
     "output_type": "display_data"
    }
   ],
   "source": [
    "# Plot of median_station\n",
    "median_station_df.plot(x='start_datetime', y=['num_trips', 'preds'], figsize=(15,7))"
   ]
  },
  {
   "cell_type": "code",
   "execution_count": null,
   "id": "c265e7dd",
   "metadata": {},
   "outputs": [],
   "source": []
  }
 ],
 "metadata": {
  "kernelspec": {
   "display_name": "Python 3",
   "language": "python",
   "name": "python3"
  },
  "language_info": {
   "codemirror_mode": {
    "name": "ipython",
    "version": 3
   },
   "file_extension": ".py",
   "mimetype": "text/x-python",
   "name": "python",
   "nbconvert_exporter": "python",
   "pygments_lexer": "ipython3",
   "version": "3.7.2"
  }
 },
 "nbformat": 4,
 "nbformat_minor": 5
}
